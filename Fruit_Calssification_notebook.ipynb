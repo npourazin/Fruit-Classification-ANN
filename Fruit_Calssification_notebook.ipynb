{
 "cells": [
  {
   "cell_type": "markdown",
   "id": "92943773",
   "metadata": {},
   "source": [
    "In the name of god\n",
    "\n",
    "ANN Project - Fruit Classification\n",
    "\n",
    "Niki Pourazin\n"
   ]
  },
  {
   "cell_type": "markdown",
   "id": "9523c867",
   "metadata": {},
   "source": [
    "# Implementing Feed Forward"
   ]
  },
  {
   "cell_type": "markdown",
   "id": "807a79d5",
   "metadata": {},
   "source": [
    "First of all, we retreive the train set by using the previously implemented methods in Loading_Datasets.py."
   ]
  },
  {
   "cell_type": "code",
   "execution_count": 11,
   "id": "2308419a",
   "metadata": {},
   "outputs": [
    {
     "name": "stdout",
     "output_type": "stream",
     "text": [
      "The loaded set's size:  1962\n"
     ]
    }
   ],
   "source": [
    "import numpy as np\n",
    "import random\n",
    "import matplotlib.pyplot as plt\n",
    "from ANN_Project_Assets import Loading_Datasets as ld\n",
    "\n",
    "train_set = ld.load_and_get_set(test_or_train=\"train\",\n",
    "                                feature_file_path=\"ANN_Project_Assets/Datasets/train_set_features.pkl\",\n",
    "                                label_file_path=\"ANN_Project_Assets/Datasets/train_set_labels.pkl\")\n",
    "\n",
    "layer_sizes = [len(train_set[0][0]), 150, 60, 4]  # [102, 150, 60, 4]"
   ]
  },
  {
   "cell_type": "markdown",
   "id": "26891ea8",
   "metadata": {},
   "source": [
    "Then, we declare the weight and bias variable; The weight and bias for between layers k and k+1 are notated by W[k] and B[k]."
   ]
  },
  {
   "cell_type": "code",
   "execution_count": 2,
   "id": "578a95f2",
   "metadata": {},
   "outputs": [],
   "source": [
    "# There are 4 layers, between each two consecutive layers, there needs to be a weight matrix\n",
    "W = [\n",
    "    np.random.normal(size=(layer_sizes[1], layer_sizes[0])),  # weights between layer 0 and 1, aka W[0]\n",
    "    np.random.normal(size=(layer_sizes[2], layer_sizes[1])),  # weights between layer 1 and 2, aka W[1]\n",
    "    np.random.normal(size=(layer_sizes[3], layer_sizes[2]))  # weights between layer 2 and 3, aka W[2]\n",
    "]\n",
    "\n",
    "# Initialize bias to 0, for every layer.\n",
    "B = [\n",
    "    np.zeros((layer_sizes[1], 1)),  # bias vector between layer 0 and 1, aka B[0]\n",
    "    np.zeros((layer_sizes[2], 1)),  # bias vector between layer 1 and 2, aka B[1]\n",
    "    np.zeros((layer_sizes[3], 1)),  # bias vector between layer 2 and 3, aka B[2]\n",
    "]"
   ]
  },
  {
   "cell_type": "markdown",
   "id": "141e2393",
   "metadata": {},
   "source": [
    "We would need two methods to use in the feed forwrd implementation.\n",
    "one is the activation function, here we implement the sigmoid function and use it later as the acivation function.\n",
    "the other is used for checking the labels, used to compare the calculated and actual values of the labels."
   ]
  },
  {
   "cell_type": "code",
   "execution_count": 3,
   "id": "87353555",
   "metadata": {},
   "outputs": [],
   "source": [
    "def sigmoid(x):\n",
    "    return 1 / (1 + np.exp(-x))\n",
    "\n",
    "\n",
    "def check_accuracy(calculated_labels, correct_labels):\n",
    "    calculated_ans = np.where(calculated_labels == np.amax(calculated_labels))\n",
    "    correct_ans = np.where(correct_labels == np.amax(correct_labels))\n",
    "\n",
    "    return calculated_ans == correct_ans"
   ]
  },
  {
   "cell_type": "markdown",
   "id": "761a2376",
   "metadata": {},
   "source": [
    "aaaaaaaaaaaaaaaaaaaaaaaaaaaaaaaaaaaaaaaaaaaaaaaaaaaaaaaaaaaaaaaaaaaaaaaaaaaa"
   ]
  },
  {
   "cell_type": "code",
   "execution_count": 5,
   "id": "a9c923f3",
   "metadata": {},
   "outputs": [
    {
     "name": "stdout",
     "output_type": "stream",
     "text": [
      "Feed Forward Accuracy:  0.235\n"
     ]
    }
   ],
   "source": [
    "def run_feed_forward():\n",
    "    data_size = 200  # number of train set elements taken from the train set\n",
    "    correct_ans_count = 0  # number of correct answers, initialized at 0\n",
    "\n",
    "    for td in train_set[:data_size]:\n",
    "        z = [\n",
    "            np.zeros((layer_sizes[0], 1)),\n",
    "            np.zeros((layer_sizes[1], 1)),\n",
    "            np.zeros((layer_sizes[2], 1)),\n",
    "            np.zeros((layer_sizes[3], 1))\n",
    "\n",
    "        ]\n",
    "\n",
    "        # values of the first layer (0th), initialized as the train data\n",
    "        z[0] = td[0]\n",
    "        np.reshape(z[0], (102, 1))\n",
    "\n",
    "        for i in range(1, 4):\n",
    "            # for each next layer, z is calculated as discussed below\n",
    "            z[i] = sigmoid(W[i - 1] @ z[i - 1] + B[i - 1])\n",
    "\n",
    "        if check_accuracy(z[3], td[1]):\n",
    "            correct_ans_count += 1\n",
    "\n",
    "    return correct_ans_count / data_size\n",
    "\n",
    "\n",
    "print(\"Feed Forward Accuracy: \", run_feed_forward())"
   ]
  },
  {
   "cell_type": "markdown",
   "id": "541abc1a",
   "metadata": {},
   "source": [
    "As expected, accuracy is very low and around 0.25 (as in a ranodom choice of 1 in 4)\n",
    "In the feed forward network, implemented above, the system has no ability in \"learning\". In the next step, we make it so the NN can adjust the weights for better and better results. "
   ]
  },
  {
   "cell_type": "markdown",
   "id": "4e0b5f99",
   "metadata": {},
   "source": [
    "# Back Propagation"
   ]
  },
  {
   "cell_type": "code",
   "execution_count": 19,
   "id": "75e10936",
   "metadata": {},
   "outputs": [
    {
     "name": "stdout",
     "output_type": "stream",
     "text": [
      "Back Propagation Accuracy:  1.0\n",
      "Wall time: 1min 13s\n"
     ]
    },
    {
     "data": {
      "image/png": "[encoded data removed]",
      "text/plain": [
       "<Figure size 432x288 with 1 Axes>"
      ]
     },
     "metadata": {
      "needs_background": "light"
     },
     "output_type": "display_data"
    }
   ],
   "source": [
    "%%time\n",
    "\n",
    "def d_sigmoid(x):\n",
    "    return sigmoid(x) * (1 - sigmoid(x))\n",
    "\n",
    "\n",
    "# Hyper parameters\n",
    "batch_size = 10\n",
    "learning_rate = 1\n",
    "epoch_number = 5\n",
    "costs = []\n",
    "\n",
    "def run_back_propagated():\n",
    "    data_size = 200\n",
    "    trimmed_train_set = train_set[:data_size]\n",
    "\n",
    "    for i in range(0, epoch_number):\n",
    "        # shuffle the train set\n",
    "        random.shuffle(trimmed_train_set)\n",
    "        batches = [train_set[x:x + batch_size] for x in range(0, 100, batch_size)]\n",
    "        for batch in batches:\n",
    "\n",
    "            grad_W = [\n",
    "                np.random.normal(size=(layer_sizes[1], layer_sizes[0])),\n",
    "                np.random.normal(size=(layer_sizes[2], layer_sizes[1])),\n",
    "                np.random.normal(size=(layer_sizes[3], layer_sizes[2]))\n",
    "            ]\n",
    "\n",
    "            grad_B = [\n",
    "                np.zeros((layer_sizes[1], 1)),\n",
    "                np.zeros((layer_sizes[2], 1)),\n",
    "                np.zeros((layer_sizes[3], 1))\n",
    "            ]\n",
    "            for td in batch:\n",
    "                z = [\n",
    "                    np.zeros((layer_sizes[0], 1)),\n",
    "                    np.zeros((layer_sizes[1], 1)),\n",
    "                    np.zeros((layer_sizes[2], 1)),\n",
    "                    np.zeros((layer_sizes[3], 1))\n",
    "                ]\n",
    "\n",
    "                # values of the first layer (0th), initialized as the train data\n",
    "                z[0] = td[0]\n",
    "                np.reshape(z[0], (102, 1))\n",
    "\n",
    "                for i in range(1, 4):\n",
    "                    # for each next layer, z is calculated as discussed below\n",
    "                    z[i] = sigmoid(W[i - 1] @ z[i - 1] + B[i - 1])\n",
    "\n",
    "                    # ** layer 4\n",
    "                for j in range(layer_sizes[3]):\n",
    "                    grad_B[2][j, 0] += 2 * (z[3][j, 0] - td[1][j, 0]) * d_sigmoid(z[3][j, 0])  # bias layer 4\n",
    "\n",
    "                    for k in range(layer_sizes[2]):  # weight layer 4\n",
    "                        grad_W[2][j, k] += 2 * (z[3][j, 0] - td[1][j, 0]) * d_sigmoid(z[3][j, 0]) * z[2][k, 0]\n",
    "\n",
    "                delta_2 = np.zeros((layer_sizes[2], 1))\n",
    "                for k in range(layer_sizes[2]):\n",
    "                    for j in range(layer_sizes[3]):\n",
    "                        delta_2[k, 0] += 2 * (z[3][j, 0] - td[1][j, 0]) * d_sigmoid(z[3][j, 0]) * W[2][j, k]\n",
    "\n",
    "                # ** layer 3\n",
    "                for j in range(layer_sizes[2]):\n",
    "                    grad_B[1][j, 0] += delta_2[j, 0] * d_sigmoid(z[2][j, 0])  # bias layer 3\n",
    "\n",
    "                    for k in range(layer_sizes[1]):  # weight layer 3\n",
    "                        grad_W[1][j, k] += delta_2[j, 0] * d_sigmoid(z[2][j, 0]) * z[1][k, 0]\n",
    "\n",
    "                delta_1 = np.zeros((layer_sizes[1], 1))\n",
    "                for k in range(layer_sizes[1]):\n",
    "                    for j in range(layer_sizes[2]):\n",
    "                        delta_1[k, 0] += delta_2[j, 0] * d_sigmoid(z[2][j, 0]) * W[1][j, k]\n",
    "\n",
    "                # ** layer 2\n",
    "                for j in range(layer_sizes[1]):\n",
    "                    grad_B[0][j, 0] += delta_1[j, 0] * d_sigmoid(z[1][j, 0])  # bias layer 2\n",
    "\n",
    "                    for k in range(layer_sizes[0]):  # weight layer 2\n",
    "                        grad_W[0][j, k] += delta_1[j, 0] * d_sigmoid(z[1][j, 0]) * z[0][k, 0]\n",
    "\n",
    "            # update, using the gradient\n",
    "            for ind in range(0, 3):\n",
    "                W[ind] -= learning_rate * (grad_W[ind] / batch_size)\n",
    "                B[ind] -= learning_rate * (grad_B[ind] / batch_size)\n",
    "\n",
    "        cost = 0\n",
    "        for td in trimmed_train_set:\n",
    "            z = [\n",
    "                np.zeros((layer_sizes[0], 1)),\n",
    "                np.zeros((layer_sizes[1], 1)),\n",
    "                np.zeros((layer_sizes[2], 1)),\n",
    "                np.zeros((layer_sizes[3], 1))\n",
    "            ]\n",
    "            # values of the first layer (0th), initialized as the train data\n",
    "            z[0] = td[0]\n",
    "            np.reshape(z[0], (102, 1))\n",
    "\n",
    "            for it in range(1, 4):\n",
    "                # for each next layer, z is calculated as discussed below\n",
    "                z[it] = sigmoid(W[it - 1] @ z[it - 1] + B[it - 1])\n",
    "\n",
    "            for j in range(layer_sizes[3]):\n",
    "                cost += np.power((z[3][j, 0] - td[1][j, 0]), 2)\n",
    "\n",
    "        cost /= 100\n",
    "        costs.append(cost)\n",
    "        \n",
    "run_back_propagated()\n",
    "\n",
    "epoch_size = [x for x in range(epoch_number)]\n",
    "plt.plot(epoch_size, costs)\n",
    "print(\"Back Propagation Accuracy: \", run_feed_forward())\n"
   ]
  },
  {
   "cell_type": "code",
   "execution_count": null,
   "id": "789033ef",
   "metadata": {},
   "outputs": [],
   "source": [
    "%%time\n",
    "batch_size = 20\n",
    "learning_rate = 1\n",
    "epoch_number = 5\n",
    "\n",
    "run_back_propagated()\n",
    "\n",
    "epoch_size = [x for x in range(epoch_number)]\n",
    "plt.plot(costs)\n",
    "print(\"Back Propagation Accuracy: \", run_feed_forward())\n"
   ]
  },
  {
   "cell_type": "code",
   "execution_count": null,
   "id": "2509e50a",
   "metadata": {},
   "outputs": [],
   "source": []
  }
 ],
 "metadata": {
  "kernelspec": {
   "display_name": "Python 3 (ipykernel)",
   "language": "python",
   "name": "python3"
  },
  "language_info": {
   "codemirror_mode": {
    "name": "ipython",
    "version": 3
   },
   "file_extension": ".py",
   "mimetype": "text/x-python",
   "name": "python",
   "nbconvert_exporter": "python",
   "pygments_lexer": "ipython3",
   "version": "3.7.7"
  }
 },
 "nbformat": 4,
 "nbformat_minor": 5
}
